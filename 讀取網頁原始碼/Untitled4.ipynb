{
  "nbformat": 4,
  "nbformat_minor": 0,
  "metadata": {
    "colab": {
      "provenance": [],
      "authorship_tag": "ABX9TyO9PRWrrQbTJzdnPkuM7MNJ",
      "include_colab_link": true
    },
    "kernelspec": {
      "name": "python3",
      "display_name": "Python 3"
    },
    "language_info": {
      "name": "python"
    }
  },
  "cells": [
    {
      "cell_type": "markdown",
      "metadata": {
        "id": "view-in-github",
        "colab_type": "text"
      },
      "source": [
        "<a href=\"https://colab.research.google.com/github/XuTingyu/-2020-Introduction-to-Computing/blob/main/%E8%AE%80%E5%8F%96%E7%B6%B2%E9%A0%81%E5%8E%9F%E5%A7%8B%E7%A2%BC/Untitled4.ipynb\" target=\"_parent\"><img src=\"https://colab.research.google.com/assets/colab-badge.svg\" alt=\"Open In Colab\"/></a>"
      ]
    },
    {
      "cell_type": "code",
      "execution_count": null,
      "metadata": {
        "id": "-VX0HtNrrBxn"
      },
      "outputs": [],
      "source": []
    }
  ]
}